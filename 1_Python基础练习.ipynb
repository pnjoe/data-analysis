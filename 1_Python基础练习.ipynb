{
 "cells": [
  {
   "cell_type": "markdown",
   "metadata": {},
   "source": [
    "## 本练习例题来自\n",
    "\n",
    "简书 @鱼心DrFish  [Python数据分析的起手式（1）Python 基础](http://www.jianshu.com/p/39eb230e6f15/ \"点击可跳转\")\n",
    "\n",
    "\n",
    "#### 本机环境\n",
    "\n",
    "> * Windows7 操作系统\n",
    "* Anaconda Navigator 1.6.2\n",
    "* Jupyter notobook 5.0.0\n",
    "* Python 3.6.1\n",
    "\n",
    "\n",
    "\n"
   ]
  },
  {
   "cell_type": "markdown",
   "metadata": {},
   "source": [
    "## 1.计算器"
   ]
  },
  {
   "cell_type": "code",
   "execution_count": 1,
   "metadata": {},
   "outputs": [
    {
     "name": "stdout",
     "output_type": "stream",
     "text": [
      "0.625\n"
     ]
    }
   ],
   "source": [
    "print(5 / 8)"
   ]
  },
  {
   "cell_type": "code",
   "execution_count": 2,
   "metadata": {},
   "outputs": [
    {
     "name": "stdout",
     "output_type": "stream",
     "text": [
      "17\n"
     ]
    }
   ],
   "source": [
    "print(7 + 10)"
   ]
  },
  {
   "cell_type": "code",
   "execution_count": 3,
   "metadata": {},
   "outputs": [
    {
     "name": "stdout",
     "output_type": "stream",
     "text": [
      "0.625\n"
     ]
    }
   ],
   "source": [
    "# 井号可以做注释,方便他人或以后自己阅读\n",
    "# 例如,下面做个除法运算\n",
    "print(5 / 8)"
   ]
  },
  {
   "cell_type": "markdown",
   "metadata": {},
   "source": [
    "### 练习1-1:\n",
    "\n",
    "运行以下代码,看一看它们分别都执行了哪些计算.\n",
    "(TIP:选中代码框,按 `shift` + `enter` 键 可执行代码.)"
   ]
  },
  {
   "cell_type": "code",
   "execution_count": 4,
   "metadata": {},
   "outputs": [
    {
     "name": "stdout",
     "output_type": "stream",
     "text": [
      "5 + 5 = 10\n",
      "5 - 5 = 0\n"
     ]
    }
   ],
   "source": [
    "# 加和减\n",
    "print('5 + 5 =',5 + 5)\n",
    "print('5 - 5 =',5 - 5)"
   ]
  },
  {
   "cell_type": "code",
   "execution_count": 5,
   "metadata": {},
   "outputs": [
    {
     "name": "stdout",
     "output_type": "stream",
     "text": [
      "3 * 5 = 15\n",
      "10 / 2 = 5.0\n"
     ]
    }
   ],
   "source": [
    "# 乘和除\n",
    "print('3 * 5 =',3 * 5)\n",
    "print('10 / 2 =', 10 / 2)"
   ]
  },
  {
   "cell_type": "code",
   "execution_count": 6,
   "metadata": {},
   "outputs": [
    {
     "name": "stdout",
     "output_type": "stream",
     "text": [
      "4的平方等于 16\n"
     ]
    }
   ],
   "source": [
    "# 指数运算\n",
    "print('4的平方等于',4 ** 2)"
   ]
  },
  {
   "cell_type": "code",
   "execution_count": 7,
   "metadata": {},
   "outputs": [
    {
     "name": "stdout",
     "output_type": "stream",
     "text": [
      "18除以7,余数为 4\n"
     ]
    }
   ],
   "source": [
    "# 取余数\n",
    "print('18除以7,余数为',18 % 7)"
   ]
  },
  {
   "cell_type": "code",
   "execution_count": 8,
   "metadata": {},
   "outputs": [
    {
     "name": "stdout",
     "output_type": "stream",
     "text": [
      "194.87171000000012\n"
     ]
    }
   ],
   "source": [
    "# 复利计算\n",
    "print(100 * 1.1 ** 7)"
   ]
  },
  {
   "cell_type": "markdown",
   "metadata": {},
   "source": [
    "## 2.变量\n",
    "\n",
    "当我们给变量命名时，最好采用有意义的名字，做到看见变量名就能明白其代表的含义，而应该避免使用像 `a` 、 `x` 这类名称。另外注意，Python中的变量名是**区分大小写**的。\n",
    "\n",
    "在Python中，使用 `=` 给变量赋值。如果要输出变量的值，使用 `print()` 函数。\n",
    "\n",
    "我们举个例子：如果一个人身高1.79m，体重68.7kg，那么他是胖是瘦呢？可以计算他的 [BMI指数](http://baike.baidu.com/item/BMI指数) 。"
   ]
  },
  {
   "cell_type": "code",
   "execution_count": 9,
   "metadata": {},
   "outputs": [
    {
     "name": "stdout",
     "output_type": "stream",
     "text": [
      "21.44127836209856\n"
     ]
    }
   ],
   "source": [
    "height = 1.79\n",
    "weight = 68.7\n",
    "bmi = weight / height ** 2\n",
    "print(bmi)"
   ]
  },
  {
   "cell_type": "markdown",
   "metadata": {},
   "source": [
    "BMI在18.50-24.99之间都是标准身材。那么如果他体重80kg呢？你不妨试着修改上面的代码来看一看。由此可见，程序相比于计算器，具有可重复的优点。"
   ]
  },
  {
   "cell_type": "markdown",
   "metadata": {},
   "source": [
    "### 练习2-1：\n",
    "\n",
    "还记得小学的复利计算应用题吗？如果你将1万元存入银行，每年的利息是3%，那么7年后一共能拿到多少钱呢？请按照下面的提示完成计算。"
   ]
  },
  {
   "cell_type": "code",
   "execution_count": 10,
   "metadata": {},
   "outputs": [
    {
     "name": "stdout",
     "output_type": "stream",
     "text": [
      "本金100元\n",
      "年利率为2.5%\n",
      "7年后,本息合计 118.86857536682123 元\n"
     ]
    }
   ],
   "source": [
    "# 创建名为savings变量，存入初始本金\n",
    "savings = 100\n",
    "print('本金100元')\n",
    "\n",
    "# 创建利息变量 factor\n",
    "factor = 0.025\n",
    "print('年利率为2.5%')\n",
    "\n",
    "# 计算7年后的本金利息总和 result\n",
    "result = savings * (1 + factor) ** 7\n",
    "\n",
    "# 输出计算结果 result\n",
    "print('7年后,本息合计',result,'元')"
   ]
  },
  {
   "cell_type": "markdown",
   "metadata": {},
   "source": [
    "## 3. 数据类型\n",
    "\n",
    "在上一小节中，我们计算得到的 bmi 是什么类型的数据呢？可以使用 `type()` 函数来查看。"
   ]
  },
  {
   "cell_type": "code",
   "execution_count": 11,
   "metadata": {},
   "outputs": [
    {
     "data": {
      "text/plain": [
       "float"
      ]
     },
     "execution_count": 11,
     "metadata": {},
     "output_type": "execute_result"
    }
   ],
   "source": [
    "type(bmi)"
   ]
  },
  {
   "cell_type": "markdown",
   "metadata": {},
   "source": [
    "这是一个浮点型（float）数据。\n",
    "\n",
    "如果我们将整数赋给变量，就得到一个整型（int）数据。"
   ]
  },
  {
   "cell_type": "code",
   "execution_count": 12,
   "metadata": {},
   "outputs": [
    {
     "data": {
      "text/plain": [
       "int"
      ]
     },
     "execution_count": 12,
     "metadata": {},
     "output_type": "execute_result"
    }
   ],
   "source": [
    "day_of_week = 5\n",
    "type(day_of_week)"
   ]
  },
  {
   "cell_type": "markdown",
   "metadata": {},
   "source": [
    "用于逻辑判断的真（True）和假（False），则是布尔型（bool）数据。"
   ]
  },
  {
   "cell_type": "code",
   "execution_count": 13,
   "metadata": {},
   "outputs": [
    {
     "data": {
      "text/plain": [
       "bool"
      ]
     },
     "execution_count": 13,
     "metadata": {},
     "output_type": "execute_result"
    }
   ],
   "source": [
    "flag = True\n",
    "type(flag)"
   ]
  },
  {
   "cell_type": "markdown",
   "metadata": {},
   "source": [
    "用单引号或双引号括起来的字符，称为字符串（str）。"
   ]
  },
  {
   "cell_type": "code",
   "execution_count": 14,
   "metadata": {},
   "outputs": [
    {
     "data": {
      "text/plain": [
       "str"
      ]
     },
     "execution_count": 14,
     "metadata": {},
     "output_type": "execute_result"
    }
   ],
   "source": [
    "string = \"body mass index\"\n",
    "type(string)"
   ]
  },
  {
   "cell_type": "markdown",
   "metadata": {},
   "source": [
    "那么，现在问题来了，请问 `'123'` 是什么类型呢？不妨自己动手试试。"
   ]
  },
  {
   "cell_type": "code",
   "execution_count": 15,
   "metadata": {},
   "outputs": [
    {
     "data": {
      "text/plain": [
       "str"
      ]
     },
     "execution_count": 15,
     "metadata": {},
     "output_type": "execute_result"
    }
   ],
   "source": [
    "type('123')"
   ]
  },
  {
   "cell_type": "markdown",
   "metadata": {},
   "source": [
    "可见 123 是字符串，那么如何将它转化成整形呢？"
   ]
  },
  {
   "cell_type": "code",
   "execution_count": 16,
   "metadata": {},
   "outputs": [
    {
     "data": {
      "text/plain": [
       "123"
      ]
     },
     "execution_count": 16,
     "metadata": {},
     "output_type": "execute_result"
    }
   ],
   "source": [
    "int('123')"
   ]
  },
  {
   "cell_type": "markdown",
   "metadata": {},
   "source": [
    "不妨再深入思考下，`'12'` + `'34'` 得到什么呢？"
   ]
  },
  {
   "cell_type": "code",
   "execution_count": 17,
   "metadata": {},
   "outputs": [
    {
     "data": {
      "text/plain": [
       "46"
      ]
     },
     "execution_count": 17,
     "metadata": {},
     "output_type": "execute_result"
    }
   ],
   "source": [
    "12 + 34"
   ]
  },
  {
   "cell_type": "code",
   "execution_count": 18,
   "metadata": {},
   "outputs": [
    {
     "data": {
      "text/plain": [
       "'1234'"
      ]
     },
     "execution_count": 18,
     "metadata": {},
     "output_type": "execute_result"
    }
   ],
   "source": [
    "'12' + '34'"
   ]
  },
  {
   "cell_type": "markdown",
   "metadata": {},
   "source": [
    "可见同是加号，对不同类型的数据，效果也是不一样的。"
   ]
  },
  {
   "cell_type": "markdown",
   "metadata": {},
   "source": [
    "### 练习3-1:\n",
    "\n",
    "不同的数据类型有着不同的行为。根据提示，尝试以下练习吧！"
   ]
  },
  {
   "cell_type": "code",
   "execution_count": 19,
   "metadata": {},
   "outputs": [
    {
     "name": "stdout",
     "output_type": "stream",
     "text": [
      "<class 'int'>\n",
      "<class 'float'>\n",
      "<class 'str'>\n",
      "<class 'str'>\n",
      "110.00000000000001\n",
      "I started with $100 and now have $110.00000000000001. Awesome!\n",
      "compound interestcompound interest\n",
      "3.1415926\n"
     ]
    }
   ],
   "source": [
    "# 首先给出练习所用到的变量\n",
    "savings = 100\n",
    "print(type(savings))\n",
    "factor = 1.1\n",
    "print(type(factor))\n",
    "desc = \"compound interest\"\n",
    "print(type(desc))\n",
    "pi_string = \"3.1415926\"\n",
    "print(type(pi_string))\n",
    "\n",
    "# 计算savings和factor的乘积，并复制给变量year1\n",
    "year1 = savings * factor\n",
    "print(year1)\n",
    "\n",
    "# 输出以下内容\n",
    "print(\"I started with $\" + str(savings) + \" and now have $\" + str(year1) + \". Awesome!\")\n",
    "\n",
    "# 输出year1的数据类型\n",
    "type(year1)\n",
    "\n",
    "# 计算 desc + desc，并赋值给doubledesc\n",
    "doubledesc = desc + desc\n",
    "\n",
    "# 输出doubledesc\n",
    "print(doubledesc)\n",
    "\n",
    "# 将字符串 pi_string 转化为浮点型 pi_float， 并输出\n",
    "pi_float = float(pi_string)\n",
    "print(pi_float)"
   ]
  },
  {
   "cell_type": "markdown",
   "metadata": {},
   "source": [
    "本文使用Jupyter notebook 编写，关于它的说明和安装方法，可以参考我之前的两篇文章。\n",
    "\n",
    "* [左手程序员，右手作家：你必须会的Jupyter Notebook](http://www.jianshu.com/p/86117613b7a6)\n",
    "\n",
    "* [致Python初学者们 - Anaconda入门使用指南](http://www.jianshu.com/p/169403f7e40c)"
   ]
  },
  {
   "cell_type": "markdown",
   "metadata": {},
   "source": [
    "特别鸣谢 余博士 @鱼心DrFish"
   ]
  }
 ],
 "metadata": {
  "kernelspec": {
   "display_name": "Python 3",
   "language": "python",
   "name": "python3"
  },
  "language_info": {
   "codemirror_mode": {
    "name": "ipython",
    "version": 3
   },
   "file_extension": ".py",
   "mimetype": "text/x-python",
   "name": "python",
   "nbconvert_exporter": "python",
   "pygments_lexer": "ipython3",
   "version": "3.6.1"
  }
 },
 "nbformat": 4,
 "nbformat_minor": 2
}
